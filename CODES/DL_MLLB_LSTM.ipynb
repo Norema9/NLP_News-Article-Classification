{
  "cells": [
    {
      "cell_type": "markdown",
      "metadata": {},
      "source": [
        "**COURSE: PRDL/MLLB**\n",
        "\n",
        "**PROJECT: Deep Learning**\n",
        "\n",
        "**TEACHER: Luis Hernández Gómez**\n",
        "\n",
        "**AUTHORS: MARONE Mamadou / RACHIDI Inass**\n",
        "\n",
        "**NOTEBOOK: LSTM / BIDIRECTIONAL LSTM**"
      ]
    },
    {
      "cell_type": "markdown",
      "metadata": {},
      "source": [
        "# SETUP"
      ]
    },
    {
      "cell_type": "markdown",
      "metadata": {},
      "source": [
        "## INSTALLING MODULES"
      ]
    },
    {
      "cell_type": "code",
      "execution_count": null,
      "metadata": {
        "id": "xizjizuGGvNM"
      },
      "outputs": [],
      "source": [
        "%%capture\n",
        "!pip install tensorflow\n",
        "!pip install tqdm"
      ]
    },
    {
      "cell_type": "code",
      "execution_count": null,
      "metadata": {},
      "outputs": [],
      "source": [
        "# os.chdir(r\"C:\\Users\\maron\\OneDrive\\02-Documents\\00.ETUDES\\00.ECOLE_D_INGE\\00.CYCLE_ING_FORMATION_INIT\\00.3EME_ANNEE_INIT\\00.A_COURS\\00.PRDL\\06.PROJECTS\")"
      ]
    },
    {
      "cell_type": "markdown",
      "metadata": {},
      "source": [
        "## IMPORTING LIBRARIES"
      ]
    },
    {
      "cell_type": "code",
      "execution_count": null,
      "metadata": {
        "id": "xBvSEAKRwjIj"
      },
      "outputs": [],
      "source": [
        "import numpy as np # linear algebra\n",
        "import pandas as pd # data processing, CSV file I/O (e.g. pd.read_csv)\n",
        "import os\n",
        "from sklearn.model_selection import train_test_split\n",
        "from sklearn.preprocessing import LabelEncoder\n",
        "from tensorflow.keras.preprocessing.text import Tokenizer\n",
        "from tensorflow.keras.preprocessing.sequence import pad_sequences\n",
        "from tensorflow.keras.models import Sequential\n",
        "from tensorflow.keras.layers import Embedding, Dense\n",
        "from tensorflow.keras.layers import LSTM, Bidirectional\n",
        "from tensorflow.keras.callbacks import EarlyStopping\n",
        "from tensorflow.keras.utils import to_categorical\n",
        "import matplotlib.pyplot as plt\n",
        "from sklearn.metrics import accuracy_score, confusion_matrix, classification_report\n",
        "from sklearn.metrics import precision_recall_fscore_support\n",
        "import seaborn as sns"
      ]
    },
    {
      "cell_type": "code",
      "execution_count": null,
      "metadata": {
        "colab": {
          "base_uri": "https://localhost:8080/"
        },
        "id": "suiz7x9RKHu-",
        "outputId": "9f6574dd-fe18-4a87-c0ba-39df119ea4c0"
      },
      "outputs": [
        {
          "name": "stdout",
          "output_type": "stream",
          "text": [
            "Mounted at /content/drive\n"
          ]
        }
      ],
      "source": [
        "# from google.colab import drive\n",
        "# drive.mount('/content/drive')"
      ]
    },
    {
      "cell_type": "markdown",
      "metadata": {
        "id": "UyYL7jUbxYsX"
      },
      "source": [
        "#  Load and Prepare Data"
      ]
    },
    {
      "cell_type": "code",
      "execution_count": null,
      "metadata": {
        "colab": {
          "base_uri": "https://localhost:8080/",
          "height": 195
        },
        "id": "Nw7PYkAevymd",
        "outputId": "10a3aedc-3cdc-42c0-e8fe-e6b93ef73901"
      },
      "outputs": [
        {
          "data": {
            "text/html": [
              "\n",
              "  <div id=\"df-15f70b2f-2da6-40fc-9933-219cc7d3247a\" class=\"colab-df-container\">\n",
              "    <div>\n",
              "<style scoped>\n",
              "    .dataframe tbody tr th:only-of-type {\n",
              "        vertical-align: middle;\n",
              "    }\n",
              "\n",
              "    .dataframe tbody tr th {\n",
              "        vertical-align: top;\n",
              "    }\n",
              "\n",
              "    .dataframe thead th {\n",
              "        text-align: right;\n",
              "    }\n",
              "</style>\n",
              "<table border=\"1\" class=\"dataframe\">\n",
              "  <thead>\n",
              "    <tr style=\"text-align: right;\">\n",
              "      <th></th>\n",
              "      <th>category</th>\n",
              "      <th>title</th>\n",
              "      <th>body</th>\n",
              "      <th>text</th>\n",
              "    </tr>\n",
              "  </thead>\n",
              "  <tbody>\n",
              "    <tr>\n",
              "      <th>0</th>\n",
              "      <td>ARTS &amp; CULTURE</td>\n",
              "      <td>model agenc enabl sexual predat year former ag...</td>\n",
              "      <td>octob carolyn kramer receiv disturb phone call...</td>\n",
              "      <td>model agenc enabl sexual predat year former ag...</td>\n",
              "    </tr>\n",
              "    <tr>\n",
              "      <th>1</th>\n",
              "      <td>ARTS &amp; CULTURE</td>\n",
              "      <td>actor jeff hiller talk bright color bold patte...</td>\n",
              "      <td>week talk actor jeff hiller hit broadway play ...</td>\n",
              "      <td>actor jeff hiller talk bright color bold patte...</td>\n",
              "    </tr>\n",
              "    <tr>\n",
              "      <th>2</th>\n",
              "      <td>ARTS &amp; CULTURE</td>\n",
              "      <td>new yorker cover put trump hole racist comment</td>\n",
              "      <td>new yorker take presid donald trump ask u woul...</td>\n",
              "      <td>new yorker cover put trump hole racist comment...</td>\n",
              "    </tr>\n",
              "  </tbody>\n",
              "</table>\n",
              "</div>\n",
              "    <div class=\"colab-df-buttons\">\n",
              "\n",
              "  <div class=\"colab-df-container\">\n",
              "    <button class=\"colab-df-convert\" onclick=\"convertToInteractive('df-15f70b2f-2da6-40fc-9933-219cc7d3247a')\"\n",
              "            title=\"Convert this dataframe to an interactive table.\"\n",
              "            style=\"display:none;\">\n",
              "\n",
              "  <svg xmlns=\"http://www.w3.org/2000/svg\" height=\"24px\" viewBox=\"0 -960 960 960\">\n",
              "    <path d=\"M120-120v-720h720v720H120Zm60-500h600v-160H180v160Zm220 220h160v-160H400v160Zm0 220h160v-160H400v160ZM180-400h160v-160H180v160Zm440 0h160v-160H620v160ZM180-180h160v-160H180v160Zm440 0h160v-160H620v160Z\"/>\n",
              "  </svg>\n",
              "    </button>\n",
              "\n",
              "  <style>\n",
              "    .colab-df-container {\n",
              "      display:flex;\n",
              "      gap: 12px;\n",
              "    }\n",
              "\n",
              "    .colab-df-convert {\n",
              "      background-color: #E8F0FE;\n",
              "      border: none;\n",
              "      border-radius: 50%;\n",
              "      cursor: pointer;\n",
              "      display: none;\n",
              "      fill: #1967D2;\n",
              "      height: 32px;\n",
              "      padding: 0 0 0 0;\n",
              "      width: 32px;\n",
              "    }\n",
              "\n",
              "    .colab-df-convert:hover {\n",
              "      background-color: #E2EBFA;\n",
              "      box-shadow: 0px 1px 2px rgba(60, 64, 67, 0.3), 0px 1px 3px 1px rgba(60, 64, 67, 0.15);\n",
              "      fill: #174EA6;\n",
              "    }\n",
              "\n",
              "    .colab-df-buttons div {\n",
              "      margin-bottom: 4px;\n",
              "    }\n",
              "\n",
              "    [theme=dark] .colab-df-convert {\n",
              "      background-color: #3B4455;\n",
              "      fill: #D2E3FC;\n",
              "    }\n",
              "\n",
              "    [theme=dark] .colab-df-convert:hover {\n",
              "      background-color: #434B5C;\n",
              "      box-shadow: 0px 1px 3px 1px rgba(0, 0, 0, 0.15);\n",
              "      filter: drop-shadow(0px 1px 2px rgba(0, 0, 0, 0.3));\n",
              "      fill: #FFFFFF;\n",
              "    }\n",
              "  </style>\n",
              "\n",
              "    <script>\n",
              "      const buttonEl =\n",
              "        document.querySelector('#df-15f70b2f-2da6-40fc-9933-219cc7d3247a button.colab-df-convert');\n",
              "      buttonEl.style.display =\n",
              "        google.colab.kernel.accessAllowed ? 'block' : 'none';\n",
              "\n",
              "      async function convertToInteractive(key) {\n",
              "        const element = document.querySelector('#df-15f70b2f-2da6-40fc-9933-219cc7d3247a');\n",
              "        const dataTable =\n",
              "          await google.colab.kernel.invokeFunction('convertToInteractive',\n",
              "                                                    [key], {});\n",
              "        if (!dataTable) return;\n",
              "\n",
              "        const docLinkHtml = 'Like what you see? Visit the ' +\n",
              "          '<a target=\"_blank\" href=https://colab.research.google.com/notebooks/data_table.ipynb>data table notebook</a>'\n",
              "          + ' to learn more about interactive tables.';\n",
              "        element.innerHTML = '';\n",
              "        dataTable['output_type'] = 'display_data';\n",
              "        await google.colab.output.renderOutput(dataTable, element);\n",
              "        const docLink = document.createElement('div');\n",
              "        docLink.innerHTML = docLinkHtml;\n",
              "        element.appendChild(docLink);\n",
              "      }\n",
              "    </script>\n",
              "  </div>\n",
              "\n",
              "\n",
              "<div id=\"df-51785ee2-804d-486b-8de5-9ca9a0443377\">\n",
              "  <button class=\"colab-df-quickchart\" onclick=\"quickchart('df-51785ee2-804d-486b-8de5-9ca9a0443377')\"\n",
              "            title=\"Suggest charts\"\n",
              "            style=\"display:none;\">\n",
              "\n",
              "<svg xmlns=\"http://www.w3.org/2000/svg\" height=\"24px\"viewBox=\"0 0 24 24\"\n",
              "     width=\"24px\">\n",
              "    <g>\n",
              "        <path d=\"M19 3H5c-1.1 0-2 .9-2 2v14c0 1.1.9 2 2 2h14c1.1 0 2-.9 2-2V5c0-1.1-.9-2-2-2zM9 17H7v-7h2v7zm4 0h-2V7h2v10zm4 0h-2v-4h2v4z\"/>\n",
              "    </g>\n",
              "</svg>\n",
              "  </button>\n",
              "\n",
              "<style>\n",
              "  .colab-df-quickchart {\n",
              "      --bg-color: #E8F0FE;\n",
              "      --fill-color: #1967D2;\n",
              "      --hover-bg-color: #E2EBFA;\n",
              "      --hover-fill-color: #174EA6;\n",
              "      --disabled-fill-color: #AAA;\n",
              "      --disabled-bg-color: #DDD;\n",
              "  }\n",
              "\n",
              "  [theme=dark] .colab-df-quickchart {\n",
              "      --bg-color: #3B4455;\n",
              "      --fill-color: #D2E3FC;\n",
              "      --hover-bg-color: #434B5C;\n",
              "      --hover-fill-color: #FFFFFF;\n",
              "      --disabled-bg-color: #3B4455;\n",
              "      --disabled-fill-color: #666;\n",
              "  }\n",
              "\n",
              "  .colab-df-quickchart {\n",
              "    background-color: var(--bg-color);\n",
              "    border: none;\n",
              "    border-radius: 50%;\n",
              "    cursor: pointer;\n",
              "    display: none;\n",
              "    fill: var(--fill-color);\n",
              "    height: 32px;\n",
              "    padding: 0;\n",
              "    width: 32px;\n",
              "  }\n",
              "\n",
              "  .colab-df-quickchart:hover {\n",
              "    background-color: var(--hover-bg-color);\n",
              "    box-shadow: 0 1px 2px rgba(60, 64, 67, 0.3), 0 1px 3px 1px rgba(60, 64, 67, 0.15);\n",
              "    fill: var(--button-hover-fill-color);\n",
              "  }\n",
              "\n",
              "  .colab-df-quickchart-complete:disabled,\n",
              "  .colab-df-quickchart-complete:disabled:hover {\n",
              "    background-color: var(--disabled-bg-color);\n",
              "    fill: var(--disabled-fill-color);\n",
              "    box-shadow: none;\n",
              "  }\n",
              "\n",
              "  .colab-df-spinner {\n",
              "    border: 2px solid var(--fill-color);\n",
              "    border-color: transparent;\n",
              "    border-bottom-color: var(--fill-color);\n",
              "    animation:\n",
              "      spin 1s steps(1) infinite;\n",
              "  }\n",
              "\n",
              "  @keyframes spin {\n",
              "    0% {\n",
              "      border-color: transparent;\n",
              "      border-bottom-color: var(--fill-color);\n",
              "      border-left-color: var(--fill-color);\n",
              "    }\n",
              "    20% {\n",
              "      border-color: transparent;\n",
              "      border-left-color: var(--fill-color);\n",
              "      border-top-color: var(--fill-color);\n",
              "    }\n",
              "    30% {\n",
              "      border-color: transparent;\n",
              "      border-left-color: var(--fill-color);\n",
              "      border-top-color: var(--fill-color);\n",
              "      border-right-color: var(--fill-color);\n",
              "    }\n",
              "    40% {\n",
              "      border-color: transparent;\n",
              "      border-right-color: var(--fill-color);\n",
              "      border-top-color: var(--fill-color);\n",
              "    }\n",
              "    60% {\n",
              "      border-color: transparent;\n",
              "      border-right-color: var(--fill-color);\n",
              "    }\n",
              "    80% {\n",
              "      border-color: transparent;\n",
              "      border-right-color: var(--fill-color);\n",
              "      border-bottom-color: var(--fill-color);\n",
              "    }\n",
              "    90% {\n",
              "      border-color: transparent;\n",
              "      border-bottom-color: var(--fill-color);\n",
              "    }\n",
              "  }\n",
              "</style>\n",
              "\n",
              "  <script>\n",
              "    async function quickchart(key) {\n",
              "      const quickchartButtonEl =\n",
              "        document.querySelector('#' + key + ' button');\n",
              "      quickchartButtonEl.disabled = true;  // To prevent multiple clicks.\n",
              "      quickchartButtonEl.classList.add('colab-df-spinner');\n",
              "      try {\n",
              "        const charts = await google.colab.kernel.invokeFunction(\n",
              "            'suggestCharts', [key], {});\n",
              "      } catch (error) {\n",
              "        console.error('Error during call to suggestCharts:', error);\n",
              "      }\n",
              "      quickchartButtonEl.classList.remove('colab-df-spinner');\n",
              "      quickchartButtonEl.classList.add('colab-df-quickchart-complete');\n",
              "    }\n",
              "    (() => {\n",
              "      let quickchartButtonEl =\n",
              "        document.querySelector('#df-51785ee2-804d-486b-8de5-9ca9a0443377 button');\n",
              "      quickchartButtonEl.style.display =\n",
              "        google.colab.kernel.accessAllowed ? 'block' : 'none';\n",
              "    })();\n",
              "  </script>\n",
              "</div>\n",
              "    </div>\n",
              "  </div>\n"
            ],
            "text/plain": [
              "         category                                              title  \\\n",
              "0  ARTS & CULTURE  model agenc enabl sexual predat year former ag...   \n",
              "1  ARTS & CULTURE  actor jeff hiller talk bright color bold patte...   \n",
              "2  ARTS & CULTURE     new yorker cover put trump hole racist comment   \n",
              "\n",
              "                                                body  \\\n",
              "0  octob carolyn kramer receiv disturb phone call...   \n",
              "1  week talk actor jeff hiller hit broadway play ...   \n",
              "2  new yorker take presid donald trump ask u woul...   \n",
              "\n",
              "                                                text  \n",
              "0  model agenc enabl sexual predat year former ag...  \n",
              "1  actor jeff hiller talk bright color bold patte...  \n",
              "2  new yorker cover put trump hole racist comment...  "
            ]
          },
          "execution_count": 6,
          "metadata": {},
          "output_type": "execute_result"
        }
      ],
      "source": [
        "df_cleaned = pd.read_csv(\"/content/drive/MyDrive/Colab Notebooks/PROJET_DL_MLLB/DATA/CLEANED/corpus_cleaned.csv\")\n",
        "df_cleaned.head(3)"
      ]
    },
    {
      "cell_type": "code",
      "execution_count": null,
      "metadata": {
        "id": "1t8hPx8Lxc9x"
      },
      "outputs": [],
      "source": [
        "# Encode the labels\n",
        "label_encoder = LabelEncoder()\n",
        "df_cleaned['encoded_labels'] = label_encoder.fit_transform(df_cleaned['category'])"
      ]
    },
    {
      "cell_type": "code",
      "execution_count": null,
      "metadata": {},
      "outputs": [],
      "source": [
        "# Split the data into features and labels\n",
        "X = df_cleaned['text']\n",
        "y = df_cleaned['encoded_labels']"
      ]
    },
    {
      "cell_type": "code",
      "execution_count": null,
      "metadata": {},
      "outputs": [],
      "source": [
        "# Split the data into training and testing sets\n",
        "X_train, X_test, y_train, y_test = train_test_split(X, y, test_size = 0.2, random_state = 42)"
      ]
    },
    {
      "cell_type": "markdown",
      "metadata": {
        "id": "PdzKnqv5CzIi"
      },
      "source": [
        "# Tokenize and Pad Text Data"
      ]
    },
    {
      "cell_type": "code",
      "execution_count": null,
      "metadata": {
        "id": "1jm59AWUC0-p"
      },
      "outputs": [],
      "source": [
        "# Tokenize the text\n",
        "max_words = 10000\n",
        "tokenizer = Tokenizer(num_words = max_words, oov_token = '<OOV>')\n",
        "tokenizer.fit_on_texts(X_train)"
      ]
    },
    {
      "cell_type": "code",
      "execution_count": null,
      "metadata": {},
      "outputs": [],
      "source": [
        "# Convert text to sequences\n",
        "X_train_sequences = tokenizer.texts_to_sequences(X_train)\n",
        "X_test_sequences = tokenizer.texts_to_sequences(X_test)"
      ]
    },
    {
      "cell_type": "code",
      "execution_count": null,
      "metadata": {},
      "outputs": [],
      "source": [
        "# Pad sequences for equal length\n",
        "max_length = 500\n",
        "X_train_padded = pad_sequences(X_train_sequences, maxlen = max_length, padding = 'post', truncating = 'post')\n",
        "X_test_padded = pad_sequences(X_test_sequences, maxlen = max_length, padding = 'post', truncating = 'post')"
      ]
    },
    {
      "cell_type": "markdown",
      "metadata": {},
      "source": [
        "# LSTM Model"
      ]
    },
    {
      "cell_type": "markdown",
      "metadata": {
        "id": "vzzipXmUC4BH"
      },
      "source": [
        "## Build the model"
      ]
    },
    {
      "cell_type": "code",
      "execution_count": null,
      "metadata": {
        "colab": {
          "base_uri": "https://localhost:8080/"
        },
        "id": "smcfbP1WC8ph",
        "outputId": "d2da41fe-9f59-4941-8b3d-c933ed3af73d"
      },
      "outputs": [],
      "source": [
        "model = Sequential()\n",
        "\n",
        "# Embedding layer\n",
        "embedding_dim = 64\n",
        "model.add(Embedding(input_dim = max_words, output_dim = embedding_dim, input_length = max_length))"
      ]
    },
    {
      "cell_type": "code",
      "execution_count": null,
      "metadata": {},
      "outputs": [],
      "source": [
        "# LSTM layer\n",
        "#model.add(LSTM(128))\n",
        "model.add(LSTM(512, activation = 'tanh', recurrent_activation = 'sigmoid'))"
      ]
    },
    {
      "cell_type": "code",
      "execution_count": null,
      "metadata": {},
      "outputs": [],
      "source": [
        "# Output layer\n",
        "num_classes = len(label_encoder.classes_)\n",
        "model.add(Dense(num_classes, activation = 'softmax'))"
      ]
    },
    {
      "cell_type": "code",
      "execution_count": null,
      "metadata": {},
      "outputs": [],
      "source": [
        "# Compile the model\n",
        "model.compile(optimizer = 'Adam', loss = 'categorical_crossentropy', metrics = ['accuracy'])\n",
        "\n",
        "# Display the model summary\n",
        "model.summary()"
      ]
    },
    {
      "cell_type": "markdown",
      "metadata": {
        "id": "g74PI_hfDAwd"
      },
      "source": [
        "## Train the LSTM Model"
      ]
    },
    {
      "cell_type": "code",
      "execution_count": null,
      "metadata": {
        "id": "zibdRdKCDFEY"
      },
      "outputs": [],
      "source": [
        "epochs = 40\n",
        "batch_size = 10\n",
        "\n",
        "# One-hot encode the labels\n",
        "y_train_one_hot = to_categorical(y_train, num_classes = num_classes)\n",
        "y_test_one_hot = to_categorical(y_test, num_classes = num_classes)"
      ]
    },
    {
      "cell_type": "code",
      "execution_count": null,
      "metadata": {
        "colab": {
          "base_uri": "https://localhost:8080/"
        },
        "id": "QJiOWWVIc2KC",
        "outputId": "36ccca98-f70d-4382-9db2-892f604a1d72"
      },
      "outputs": [
        {
          "name": "stdout",
          "output_type": "stream",
          "text": [
            "Epoch 1/40\n",
            "551/551 [==============================] - 51s 88ms/step - loss: 2.5854 - accuracy: 0.1376 - val_loss: 2.5362 - val_accuracy: 0.1512\n",
            "Epoch 2/40\n",
            "551/551 [==============================] - 30s 55ms/step - loss: 2.7326 - accuracy: 0.1085 - val_loss: 2.6897 - val_accuracy: 0.1497\n",
            "Epoch 3/40\n",
            "551/551 [==============================] - 22s 41ms/step - loss: 2.6509 - accuracy: 0.1222 - val_loss: 2.7465 - val_accuracy: 0.1199\n",
            "Epoch 4/40\n",
            "551/551 [==============================] - 19s 35ms/step - loss: 2.6052 - accuracy: 0.1245 - val_loss: 2.5888 - val_accuracy: 0.1381\n",
            "Epoch 5/40\n",
            "551/551 [==============================] - 20s 36ms/step - loss: 2.5717 - accuracy: 0.1234 - val_loss: 2.6431 - val_accuracy: 0.1497\n",
            "Epoch 6/40\n",
            "551/551 [==============================] - 19s 34ms/step - loss: 2.5546 - accuracy: 0.1245 - val_loss: 2.6744 - val_accuracy: 0.1206\n",
            "Epoch 7/40\n",
            "551/551 [==============================] - 18s 34ms/step - loss: 2.5246 - accuracy: 0.1371 - val_loss: 2.5803 - val_accuracy: 0.1468\n",
            "Epoch 8/40\n",
            "551/551 [==============================] - 18s 32ms/step - loss: 2.4396 - accuracy: 0.1752 - val_loss: 2.5415 - val_accuracy: 0.1759\n",
            "Epoch 9/40\n",
            "551/551 [==============================] - 17s 32ms/step - loss: 2.4104 - accuracy: 0.1820 - val_loss: 2.6066 - val_accuracy: 0.1068\n",
            "Epoch 10/40\n",
            "551/551 [==============================] - 17s 31ms/step - loss: 2.3692 - accuracy: 0.2036 - val_loss: 2.6976 - val_accuracy: 0.1606\n",
            "Epoch 11/40\n",
            "551/551 [==============================] - 17s 31ms/step - loss: 2.3190 - accuracy: 0.2092 - val_loss: 2.5963 - val_accuracy: 0.1555\n",
            "Epoch 12/40\n",
            "551/551 [==============================] - 17s 31ms/step - loss: 2.2132 - accuracy: 0.2490 - val_loss: 2.5080 - val_accuracy: 0.1359\n",
            "Epoch 13/40\n",
            "551/551 [==============================] - 16s 30ms/step - loss: 1.9493 - accuracy: 0.3258 - val_loss: 2.2948 - val_accuracy: 0.2333\n",
            "Epoch 14/40\n",
            "551/551 [==============================] - 16s 30ms/step - loss: 1.6607 - accuracy: 0.3968 - val_loss: 2.2504 - val_accuracy: 0.2798\n",
            "Epoch 15/40\n",
            "551/551 [==============================] - 17s 31ms/step - loss: 1.4515 - accuracy: 0.4659 - val_loss: 2.1732 - val_accuracy: 0.3001\n",
            "Epoch 16/40\n",
            "551/551 [==============================] - 17s 30ms/step - loss: 1.2359 - accuracy: 0.5337 - val_loss: 2.2532 - val_accuracy: 0.3525\n",
            "Epoch 17/40\n",
            "551/551 [==============================] - 17s 30ms/step - loss: 1.0168 - accuracy: 0.6259 - val_loss: 2.3177 - val_accuracy: 0.3881\n",
            "Epoch 18/40\n",
            "551/551 [==============================] - 16s 30ms/step - loss: 0.9915 - accuracy: 0.6822 - val_loss: 2.3761 - val_accuracy: 0.3089\n",
            "Epoch 19/40\n",
            "551/551 [==============================] - 17s 30ms/step - loss: 1.2561 - accuracy: 0.5910 - val_loss: 2.2659 - val_accuracy: 0.4375\n",
            "Epoch 20/40\n",
            "551/551 [==============================] - 17s 31ms/step - loss: 0.5380 - accuracy: 0.8449 - val_loss: 2.1542 - val_accuracy: 0.5051\n",
            "Epoch 21/40\n",
            "551/551 [==============================] - 17s 30ms/step - loss: 0.3258 - accuracy: 0.9142 - val_loss: 2.2217 - val_accuracy: 0.5109\n",
            "Epoch 22/40\n",
            "551/551 [==============================] - 16s 30ms/step - loss: 0.2127 - accuracy: 0.9438 - val_loss: 2.4311 - val_accuracy: 0.5058\n",
            "Epoch 23/40\n",
            "551/551 [==============================] - 16s 30ms/step - loss: 0.1490 - accuracy: 0.9642 - val_loss: 2.5067 - val_accuracy: 0.5116\n",
            "Epoch 24/40\n",
            "551/551 [==============================] - 16s 29ms/step - loss: 0.1046 - accuracy: 0.9724 - val_loss: 2.5957 - val_accuracy: 0.5211\n",
            "Epoch 25/40\n",
            "551/551 [==============================] - 16s 30ms/step - loss: 0.0786 - accuracy: 0.9775 - val_loss: 2.8169 - val_accuracy: 0.5196\n",
            "Epoch 26/40\n",
            "551/551 [==============================] - 17s 30ms/step - loss: 0.0735 - accuracy: 0.9791 - val_loss: 2.6296 - val_accuracy: 0.5392\n",
            "Epoch 27/40\n",
            "551/551 [==============================] - 17s 31ms/step - loss: 0.0555 - accuracy: 0.9855 - val_loss: 2.8756 - val_accuracy: 0.5029\n",
            "Epoch 28/40\n",
            "551/551 [==============================] - 16s 30ms/step - loss: 0.0251 - accuracy: 0.9945 - val_loss: 3.1395 - val_accuracy: 0.5087\n",
            "Epoch 29/40\n",
            "551/551 [==============================] - 17s 30ms/step - loss: 0.0281 - accuracy: 0.9925 - val_loss: 3.0776 - val_accuracy: 0.5044\n",
            "Epoch 30/40\n",
            "551/551 [==============================] - 16s 30ms/step - loss: 0.0343 - accuracy: 0.9893 - val_loss: 2.9005 - val_accuracy: 0.5422\n",
            "Epoch 31/40\n",
            "551/551 [==============================] - 16s 29ms/step - loss: 0.0326 - accuracy: 0.9922 - val_loss: 2.9058 - val_accuracy: 0.5378\n",
            "Epoch 32/40\n",
            "551/551 [==============================] - 16s 30ms/step - loss: 0.0261 - accuracy: 0.9922 - val_loss: 3.1874 - val_accuracy: 0.5305\n",
            "Epoch 33/40\n",
            "551/551 [==============================] - 17s 30ms/step - loss: 0.0131 - accuracy: 0.9962 - val_loss: 3.2283 - val_accuracy: 0.5356\n",
            "Epoch 34/40\n",
            "551/551 [==============================] - 16s 29ms/step - loss: 0.0203 - accuracy: 0.9938 - val_loss: 3.3374 - val_accuracy: 0.5225\n",
            "Epoch 35/40\n",
            "551/551 [==============================] - 17s 31ms/step - loss: 0.0205 - accuracy: 0.9944 - val_loss: 3.2371 - val_accuracy: 0.5320\n",
            "Epoch 36/40\n",
            "551/551 [==============================] - 16s 30ms/step - loss: 0.0140 - accuracy: 0.9969 - val_loss: 3.2625 - val_accuracy: 0.5363\n",
            "Epoch 37/40\n",
            "551/551 [==============================] - 16s 29ms/step - loss: 0.0056 - accuracy: 0.9985 - val_loss: 3.4969 - val_accuracy: 0.5283\n",
            "Epoch 38/40\n",
            "551/551 [==============================] - 16s 30ms/step - loss: 0.0074 - accuracy: 0.9976 - val_loss: 3.4621 - val_accuracy: 0.5269\n",
            "Epoch 39/40\n",
            "551/551 [==============================] - 16s 30ms/step - loss: 0.0152 - accuracy: 0.9953 - val_loss: 3.4398 - val_accuracy: 0.5385\n",
            "Epoch 40/40\n",
            "551/551 [==============================] - 17s 30ms/step - loss: 0.0033 - accuracy: 0.9991 - val_loss: 3.6734 - val_accuracy: 0.5349\n"
          ]
        }
      ],
      "source": [
        "# Define the EarlyStopping callback\n",
        "early_stopping = EarlyStopping(monitor='val_loss', patience=5, restore_best_weights=True)\n",
        "\n",
        "# Fit the model with one-hot encoded labels and EarlyStopping callback\n",
        "history = model.fit(X_train_padded, y_train_one_hot, epochs=epochs, batch_size=batch_size, validation_split = 0.2)"
      ]
    },
    {
      "cell_type": "code",
      "execution_count": null,
      "metadata": {
        "colab": {
          "base_uri": "https://localhost:8080/",
          "height": 472
        },
        "id": "cOP4eL7jRXMU",
        "outputId": "820f2666-aa4c-402e-cfa5-7ffbf929746e"
      },
      "outputs": [
        {
          "data": {
            "image/png": "[encoded data removed]",
            "text/plain": [
              "<Figure size 640x480 with 1 Axes>"
            ]
          },
          "metadata": {},
          "output_type": "display_data"
        }
      ],
      "source": [
        "# Plot training and validation loss values\n",
        "plt.plot(history.history['loss'], label = 'Training Loss')\n",
        "plt.plot(history.history['val_loss'], label = 'Validation Loss')\n",
        "plt.title('Training and Validation Loss')\n",
        "plt.xlabel('Epoch')\n",
        "plt.ylabel('Loss')\n",
        "plt.legend()\n",
        "plt.show()"
      ]
    },
    {
      "cell_type": "markdown",
      "metadata": {
        "id": "i3n30p82GvNh"
      },
      "source": [
        "Notice:\n",
        "- with the **default activation** functions:\n",
        "    - The model underfits(0.17 accuracy) when we use **Adam** as optimizer algorithm. When We have changed it to **RMSprop**, we got 0.23 of accuracy and the underfitting decreases.\n",
        "- with the activation functions **activation='tanh'** and **recurrent_activation='sigmoid'** :\n",
        "    - the Adam perform better than the RMSprop (17% Vs 22%)\n",
        "    - We have also tried the optimizer **Nadam**(17%)"
      ]
    },
    {
      "cell_type": "markdown",
      "metadata": {
        "id": "kxcW-U2aDKvS"
      },
      "source": [
        "## EVALUATION"
      ]
    },
    {
      "cell_type": "code",
      "execution_count": null,
      "metadata": {
        "colab": {
          "base_uri": "https://localhost:8080/"
        },
        "id": "zSLLLAPhDME0",
        "outputId": "02d27914-9265-45d8-f3f3-af19ce8bdcb9"
      },
      "outputs": [
        {
          "name": "stdout",
          "output_type": "stream",
          "text": [
            "43/43 [==============================] - 1s 18ms/step - loss: 3.6734 - accuracy: 0.5349\n",
            "Test Loss: 3.6733884811401367\n",
            "Test Accuracy: 0.5348837375640869\n"
          ]
        }
      ],
      "source": [
        "# Evaluate the model on the test set\n",
        "loss, accuracy = model.evaluate(X_test_padded, y_test_one_hot)\n",
        "print(\"Test Loss:\", loss)\n",
        "print(\"Test Accuracy:\", accuracy)"
      ]
    },
    {
      "cell_type": "code",
      "execution_count": null,
      "metadata": {},
      "outputs": [],
      "source": [
        "# Evaluate the model on the test set\n",
        "y_pred = model.predict_classes(X_test_padded)\n",
        "\n",
        "# Calculate additional metrics\n",
        "accuracy = accuracy_score(y_test_one_hot, y_pred)\n",
        "conf_matrix = confusion_matrix(y_test_one_hot, y_pred)\n",
        "classification_rep = classification_report(y_test_one_hot, y_pred)\n",
        "\n",
        "print(\"Test Accuracy:\", accuracy)\n",
        "print(\"Confusion Matrix:\\n\", conf_matrix)\n",
        "print(\"Classification Report:\\n\", classification_rep)\n",
        "\n",
        "# Extract precision, recall, and F1 score\n",
        "precision, recall, f1_score, _ = precision_recall_fscore_support(y_test_one_hot, y_pred, average='weighted')\n",
        "\n",
        "print(\"Weighted Precision:\", precision)\n",
        "print(\"Weighted Recall:\", recall)\n",
        "print(\"Weighted F1 Score:\", f1_score)\n",
        "\n",
        "# Visualize the confusion matrix\n",
        "plt.figure(figsize=(8, 6))\n",
        "sns.heatmap(conf_matrix, annot=True, fmt='d', cmap='Blues', xticklabels=label_encoder.classes_, yticklabels=label_encoder.classes_)\n",
        "plt.title(\"Confusion Matrix\")\n",
        "plt.xlabel(\"Predicted\")\n",
        "plt.ylabel(\"Actual\")\n",
        "plt.show()"
      ]
    },
    {
      "cell_type": "markdown",
      "metadata": {},
      "source": [
        "# BIDIRECTIONNAL LSTM"
      ]
    },
    {
      "cell_type": "markdown",
      "metadata": {},
      "source": [
        "## Build the model"
      ]
    },
    {
      "cell_type": "code",
      "execution_count": null,
      "metadata": {},
      "outputs": [],
      "source": [
        "model_bidir = Sequential()\n",
        "\n",
        "# Embedding layer\n",
        "model_bidir.add(Embedding(input_dim=max_words, output_dim=embedding_dim, input_length=max_length))\n",
        "\n",
        "# Bidirectional LSTM layer\n",
        "model_bidir.add(Bidirectional(LSTM(512, activation='tanh', recurrent_activation='sigmoid')))\n",
        "\n",
        "# Output layer\n",
        "num_classes = len(label_encoder.classes_)\n",
        "model_bidir.add(Dense(num_classes, activation='softmax'))\n",
        "\n",
        "# Compile the model\n",
        "model_bidir.compile(optimizer='Adam', loss='categorical_crossentropy', metrics=['accuracy'])\n",
        "\n",
        "# Display the model summary\n",
        "model_bidir.summary()"
      ]
    },
    {
      "cell_type": "markdown",
      "metadata": {},
      "source": [
        "## Train the LSTM Model"
      ]
    },
    {
      "cell_type": "code",
      "execution_count": null,
      "metadata": {},
      "outputs": [],
      "source": [
        "epochs = 40\n",
        "batch_size = 10"
      ]
    },
    {
      "cell_type": "code",
      "execution_count": null,
      "metadata": {},
      "outputs": [],
      "source": [
        "# Define the EarlyStopping callback\n",
        "early_stopping = EarlyStopping(monitor='val_loss', patience=5, restore_best_weights=True)\n",
        "\n",
        "# Fit the model with one-hot encoded labels and EarlyStopping callback\n",
        "history = model_bidir.fit(X_train_padded, y_train_one_hot, epochs=epochs, batch_size=batch_size, validation_split = 0.2)"
      ]
    },
    {
      "cell_type": "code",
      "execution_count": null,
      "metadata": {},
      "outputs": [],
      "source": [
        "# Plot training and validation loss values\n",
        "plt.plot(history.history['loss'], label = 'Training Loss')\n",
        "plt.plot(history.history['val_loss'], label = 'Validation Loss')\n",
        "plt.title('Training and Validation Loss')\n",
        "plt.xlabel('Epoch')\n",
        "plt.ylabel('Loss')\n",
        "plt.legend()\n",
        "plt.show()"
      ]
    },
    {
      "cell_type": "markdown",
      "metadata": {},
      "source": [
        "## EVALUATION"
      ]
    },
    {
      "cell_type": "code",
      "execution_count": null,
      "metadata": {},
      "outputs": [],
      "source": [
        "# Evaluate the model on the test set\n",
        "loss, accuracy = model_bidir.evaluate(X_test_padded, y_test_one_hot)\n",
        "print(\"Test Loss:\", loss)\n",
        "print(\"Test Accuracy:\", accuracy)"
      ]
    },
    {
      "cell_type": "code",
      "execution_count": null,
      "metadata": {},
      "outputs": [],
      "source": [
        "# Evaluate the model on the test set\n",
        "y_pred = model.predict_classes(X_test_padded)\n",
        "\n",
        "# Calculate additional metrics\n",
        "accuracy = accuracy_score(y_test_one_hot, y_pred)\n",
        "conf_matrix = confusion_matrix(y_test_one_hot, y_pred)\n",
        "classification_rep = classification_report(y_test_one_hot, y_pred)\n",
        "\n",
        "print(\"Test Accuracy:\", accuracy)\n",
        "print(\"Confusion Matrix:\\n\", conf_matrix)\n",
        "print(\"Classification Report:\\n\", classification_rep)\n",
        "\n",
        "# Extract precision, recall, and F1 score\n",
        "precision, recall, f1_score, _ = precision_recall_fscore_support(y_test_one_hot, y_pred, average='weighted')\n",
        "\n",
        "print(\"Weighted Precision:\", precision)\n",
        "print(\"Weighted Recall:\", recall)\n",
        "print(\"Weighted F1 Score:\", f1_score)\n",
        "\n",
        "# Visualize the confusion matrix\n",
        "plt.figure(figsize=(8, 6))\n",
        "sns.heatmap(conf_matrix, annot=True, fmt='d', cmap='Blues', xticklabels=label_encoder.classes_, yticklabels=label_encoder.classes_)\n",
        "plt.title(\"Confusion Matrix\")\n",
        "plt.xlabel(\"Predicted\")\n",
        "plt.ylabel(\"Actual\")\n",
        "plt.show()"
      ]
    }
  ],
  "metadata": {
    "accelerator": "GPU",
    "colab": {
      "gpuType": "V100",
      "machine_shape": "hm",
      "provenance": []
    },
    "kernelspec": {
      "display_name": "Python 3",
      "name": "python3"
    },
    "language_info": {
      "codemirror_mode": {
        "name": "ipython",
        "version": 3
      },
      "file_extension": ".py",
      "mimetype": "text/x-python",
      "name": "python",
      "nbconvert_exporter": "python",
      "pygments_lexer": "ipython3",
      "version": "3.11.5"
    }
  },
  "nbformat": 4,
  "nbformat_minor": 0
}
